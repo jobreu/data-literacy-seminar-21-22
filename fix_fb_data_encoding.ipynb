{
 "cells": [
  {
   "cell_type": "markdown",
   "metadata": {},
   "source": [
    "# Character Encoding der Facebook-Dateien korrigieren"
   ]
  },
  {
   "cell_type": "markdown",
   "metadata": {},
   "source": [
    "Zunächst laden wir die benötige Python Library."
   ]
  },
  {
   "cell_type": "code",
   "execution_count": 2,
   "metadata": {},
   "outputs": [],
   "source": [
    "import json"
   ]
  },
  {
   "cell_type": "markdown",
   "metadata": {},
   "source": [
    "Nun definieren wir eine Funktion für die Korrektur der Zeichenkodierung. Der Code für diese Funktion stammt aus einem [Post auf *Stackoverflow*](https://stackoverflow.com/questions/50008296/facebook-json-badly-encoded)."
   ]
  },
  {
   "cell_type": "code",
   "execution_count": 3,
   "metadata": {},
   "outputs": [],
   "source": [
    "def parse_obj(obj):\n",
    "    if isinstance(obj, str):\n",
    "        return obj.encode('latin_1').decode('utf-8')\n",
    "\n",
    "    if isinstance(obj, list):\n",
    "        return [parse_obj(o) for o in obj]\n",
    "\n",
    "    if isinstance(obj, dict):\n",
    "        return {key: parse_obj(item) for key, item in obj.items()}\n",
    "\n",
    "    return obj"
   ]
  },
  {
   "cell_type": "markdown",
   "metadata": {},
   "source": [
    "Nun öffnen wir der Reihe nach die jeweiligen Dateien, passen die Zeichenkodierung an und speichern die neuen Dateien, um mit diesen dann im Notebook [facebook.ipynb](./facebook.ipynb) weiterzuarbeiten."
   ]
  },
  {
   "cell_type": "markdown",
   "metadata": {},
   "source": [
    "**Zur Erinnerung**: Bevor der nachfolgende Code ausgeführt werden kann, müssen zunächst die entsprechenden `JSON`-Files in den `data`-Ordner hochgeladen werden. Wie dies geht, wird im Notebook [facebook.ipynb](./facebook.ipynb) erklärt."
   ]
  },
  {
   "cell_type": "code",
   "execution_count": 6,
   "metadata": {},
   "outputs": [],
   "source": [
    "with open('./data/your_posts_1.json') as json_posts:\n",
    "    posts = json.load(json_posts)\n",
    "    \n",
    "decoded_posts = parse_obj(posts)\n",
    "\n",
    "with open('./data/fb_posts.json', 'w') as outfile:\n",
    "    json.dump(decoded_posts, outfile)"
   ]
  },
  {
   "cell_type": "code",
   "execution_count": 4,
   "metadata": {},
   "outputs": [],
   "source": [
    "with open('./data/posts_and_comments.json') as json_reactions:\n",
    "    reactions = json.load(json_reactions)\n",
    "    \n",
    "decoded_reactions = parse_obj(reactions)\n",
    "\n",
    "with open('./data/fb_reactions.json', 'w') as outfile:\n",
    "    json.dump(decoded_reactions, outfile)"
   ]
  },
  {
   "cell_type": "code",
   "execution_count": 5,
   "metadata": {},
   "outputs": [],
   "source": [
    "with open('./data/friends.json') as json_friends:\n",
    "    friends = json.load(json_friends)\n",
    "    \n",
    "decoded_friends = parse_obj(friends)\n",
    "\n",
    "with open('./data/fb_friends.json', 'w') as outfile:\n",
    "    json.dump(decoded_friends, outfile)"
   ]
  }
 ],
 "metadata": {
  "kernelspec": {
   "display_name": "Python 3",
   "language": "python",
   "name": "python3"
  },
  "language_info": {
   "codemirror_mode": {
    "name": "ipython",
    "version": 3
   },
   "file_extension": ".py",
   "mimetype": "text/x-python",
   "name": "python",
   "nbconvert_exporter": "python",
   "pygments_lexer": "ipython3",
   "version": "3.7.3"
  }
 },
 "nbformat": 4,
 "nbformat_minor": 4
}
