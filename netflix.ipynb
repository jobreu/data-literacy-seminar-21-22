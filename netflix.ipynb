{
 "cells": [
  {
   "cell_type": "markdown",
   "metadata": {},
   "source": [
    "# Netflix Viewing History explorieren"
   ]
  },
  {
   "cell_type": "markdown",
   "metadata": {},
   "source": [
    "## Vorbereitung"
   ]
  },
  {
   "cell_type": "markdown",
   "metadata": {},
   "source": [
    "In diesem Notebook können Sie Daten zu Ihrer Nutzungshistorie (Viewing History) bei *Netflix* explorieren. Sie können diese Daten [bei *Netflix* als `.csv`-Datei exportieren](https://www.netflix.com/viewingactivity). Diese können Sie dann lokal auf Ihrem Rechner speichern. Wenn Sie einen Blick in die Daten werfen möchten, können Sie dies z.B. mit Texteditoren wie [Notepad++](https://notepad-plus-plus.org/) oder [Atom](https://atom.io/) machen (*Hinweis*: Es ist prinzipiell auch möglich, die `.csv`-Datei mit *Excel* zu öffnen. Da *Excel* jedoch die Angewohnheit hat, beim Öffnen von Dateien deren Format bzw. das Format ihrer Inhalte zu verändern, würde ich diese Option tendenziell eher nicht empfehlen)."
   ]
  },
  {
   "cell_type": "markdown",
   "metadata": {},
   "source": [
    "Nachdem Sie die Datei exportiert und lokal gespeichertt haben, müssen Sie diese hier hochladen, um das Notebook nutzen zu können. Die Datei sollte im Ordner *data* gespeichert werden. Öffnen Sie diesen (durch Doppelklick auf den Ordnernamen) im File Explorer auf der linken Seite und nutzen dann den *Upload Files*-Button im Menü oben links (das Symbol ist ein Pfeil über einem Strich). Wählen Sie darüber die entsprechende `csv`-Datei aus (diese heißt standardmäßig `NetflixViewingHistory.csv`)."
   ]
  },
  {
   "cell_type": "markdown",
   "metadata": {},
   "source": [
    "**Zur Erinnerung**: Ihre persönliche Kopie des Notebooks sowie alle Dateien, die Sie hochladen, werden am Ende der Nutzungssitzung gelöscht. Wenn Sie aber ganz \"auf Nummer sicher gehen\" wollen, können Sie die Datei mit Ihren Tweets auch über den File Explorer auf der linken Seite nach dem Durcharbeiten dieses Notebooks auch manuell löschen: Rechtsklick auf den Dateinamen und dann *Delete* auswählen."
   ]
  },
  {
   "cell_type": "markdown",
   "metadata": {},
   "source": [
    "## Pakete laden"
   ]
  },
  {
   "cell_type": "markdown",
   "metadata": {},
   "source": [
    "Wie auch in den anderen Notebooks müssen wir zunächst die benötigten `R`-Pakete laden bevor wir mit der Analyse beginnen können."
   ]
  },
  {
   "cell_type": "code",
   "execution_count": null,
   "metadata": {},
   "outputs": [],
   "source": [
    "library(tidyverse)\n",
    "library(lubridate)"
   ]
  },
  {
   "cell_type": "markdown",
   "metadata": {},
   "source": [
    "## Daten einlesen & aufbereiten"
   ]
  },
  {
   "cell_type": "markdown",
   "metadata": {},
   "source": [
    "Im nächsten Schritt lesen wir die Daten ein."
   ]
  },
  {
   "cell_type": "code",
   "execution_count": null,
   "metadata": {},
   "outputs": [],
   "source": [
    "my_netflix <- read_csv(\"C:/Users/breuerjs/Desktop/NetflixViewingHistory.csv\")"
   ]
  },
  {
   "cell_type": "markdown",
   "metadata": {},
   "source": [
    "Wie für die anderen Datentypen (Twitter, Facebook, Google) müssen wir auch die *Netflix*-Daten ein wenig aufbereiten damit wir gut mit ihnen arbeiten können. Da die Daten bereits als `.csv`-Datei vorliegen ist der Aufwand hier jedoch deutlich geringer als im Falle `JSON`-Dateien für die anderen Datentypen."
   ]
  },
  {
   "cell_type": "code",
   "execution_count": null,
   "metadata": {},
   "outputs": [],
   "source": [
    "my_netflix <- my_netflix %>% \n",
    "  mutate(Date = dmy(Date)) %>% \n",
    "  separate(col = Title, into = c(\"show\", \"season\", \"episode\"), sep = \": \")"
   ]
  },
  {
   "cell_type": "markdown",
   "metadata": {},
   "source": [
    "Um nun zu schauen, was in den Daten drinsteckt, können wir einen ersten Blick darauf werfen."
   ]
  },
  {
   "cell_type": "code",
   "execution_count": null,
   "metadata": {},
   "outputs": [],
   "source": [
    "glimpse(my_netflix)"
   ]
  },
  {
   "cell_type": "markdown",
   "metadata": {},
   "source": [
    "Für die Exploration unserer *Netflix* Viewing History trennen wir den Datensatz zunächst in Serien (für diese gibt es die Werte *Season* und *Episode*) und Filme (für diese gibt es die Werte *Season* und *Episode* nicht)."
   ]
  },
  {
   "cell_type": "code",
   "execution_count": null,
   "metadata": {},
   "outputs": [],
   "source": [
    "my_netflix_shows <- my_netflix %>% \n",
    "  filter(!is.na(season) & !is.na(episode))\n",
    "\n",
    "my_netflix_movies <- my_netflix %>% \n",
    "  filter(is.na(season) & is.na(episode))"
   ]
  },
  {
   "cell_type": "markdown",
   "metadata": {},
   "source": [
    "## Erste Exploration"
   ]
  },
  {
   "cell_type": "markdown",
   "metadata": {},
   "source": [
    "Nachdem wir die Daten nunr aufbereitet haben, können wir im ersten Schritt schauen, wie viele verschiedene Serien wir geschaut haben."
   ]
  },
  {
   "cell_type": "code",
   "execution_count": null,
   "metadata": {},
   "outputs": [],
   "source": [
    "n_distinct(my_netflix_shows$show)"
   ]
  },
  {
   "cell_type": "markdown",
   "metadata": {},
   "source": [
    "Auf die gleiche Weise können wir schauen, wie viele Filme wir auf *Netflix* gesehen haben."
   ]
  },
  {
   "cell_type": "code",
   "execution_count": null,
   "metadata": {},
   "outputs": [],
   "source": [
    "n_distinct(my_netflix_movies$show)"
   ]
  },
  {
   "cell_type": "markdown",
   "metadata": {},
   "source": [
    "## Binge Watching"
   ]
  },
  {
   "cell_type": "markdown",
   "metadata": {},
   "source": [
    "Wir kennen es alle: Es gibt Serien, da schaut man immer weiter. Ebenso gibt es Tage, an denen man mehr Zeit (als geplant) mit *Netflix* verbringt. Dann passiert das, was gemeinhin gerne *Binge Watching* genannt wird."
   ]
  },
  {
   "cell_type": "markdown",
   "metadata": {},
   "source": [
    "### Most-binged shows"
   ]
  },
  {
   "cell_type": "markdown",
   "metadata": {},
   "source": [
    "Um unser eigenes Binge-Watching-Verhalten zu erkunden, können wir uns bspw. ansehen, an welchen Tagen wir die meisten Folgen einer bestimmten Serie geschaut haben."
   ]
  },
  {
   "cell_type": "code",
   "execution_count": null,
   "metadata": {},
   "outputs": [],
   "source": [
    "episodes_per_day <- my_netflix_shows %>% \n",
    "  count(show, Date)\n",
    "\n",
    "episodes_per_day %>% \n",
    "  arrange(-n)"
   ]
  },
  {
   "cell_type": "markdown",
   "metadata": {},
   "source": [
    "### Binge Days"
   ]
  },
  {
   "cell_type": "markdown",
   "metadata": {},
   "source": [
    "Ebenso können wir uns ansehen, an welchen Tagen wir insgesamt die meisten Serienfolgen auf *Netflix* geschaut haben."
   ]
  },
  {
   "cell_type": "code",
   "execution_count": null,
   "metadata": {},
   "outputs": [],
   "source": [
    "my_netflix_per_day <- my_netflix_shows %>% \n",
    "  count(Date) %>% \n",
    "  arrange(-n)\n",
    "\n",
    "my_netflix_per_day %>% \n",
    "  head(10)\n",
    "\n",
    "my_netflix_per_day %>% \n",
    "  ggplot(aes(x = Date, y = n)) +\n",
    "  geom_col() +\n",
    "  scale_y_continuous(expand = expansion(mult = c(0, 0.1))) +\n",
    "  labs(title = \"Geschaute Netflix-Serienfolgen pro Tag\",\n",
    "       subtitle = \"Von 2015 bis 2021\",\n",
    "       x = \"Jahr\",\n",
    "       y = \"Anzahl geschauter Folgen\")"
   ]
  },
  {
   "cell_type": "markdown",
   "metadata": {},
   "source": [
    "Eine andere Möglichkeit, Unterschiede und v.a. Spitzen in unserer *Netflix*-Nutzung über die Zeit zu visualisieren, ist eine sogenannte Heatmap. Um diese zu erstellen ist wiederum ein wenig Datenaufbereitung (Data Wrangling) nötig."
   ]
  },
  {
   "cell_type": "code",
   "execution_count": null,
   "metadata": {},
   "outputs": [],
   "source": [
    "my_netflix_per_day <- my_netflix_per_day %>% \n",
    "  arrange(Date) %>% \n",
    "  mutate(wday_number = wday(Date, week_start = 1),\n",
    "         wday_name = wday(Date, week_start = 1, label = T, abbr = T),\n",
    "         month = month(Date, label = T, abbr = T),\n",
    "         yearmon = factor(as.yearmon(Date)),\n",
    "         week = week(Date),\n",
    "         week_month = ceiling(day(Date) / 7))\n",
    "\n",
    "my_netflix_per_day %>% \n",
    "  ggplot(aes(x = week_month, y = reorder(wday_name, desc(wday_name)), fill = n)) + \n",
    "  geom_tile(colour = \"white\") + \n",
    "  facet_grid(year(my_netflix_per_day$Date) ~ month) + \n",
    "  scale_fill_gradient(low = \"#FFD000\",\n",
    "                      high = \"#FF1919\") +\n",
    "  labs(title = \"Mein Netflix-Serienkonsum über die Zeit\",\n",
    "       subtitle = \"Heatmap für Tage, Wochen und Monate\",\n",
    "       x = \"Wochennummer\",\n",
    "       y = \"Wochentag\",\n",
    "       fill = \"Anzahl geschauter Folgen\")"
   ]
  },
  {
   "cell_type": "markdown",
   "metadata": {},
   "source": [
    "## Unterschiede zwischen Wochentagen"
   ]
  },
  {
   "cell_type": "markdown",
   "metadata": {},
   "source": [
    "An welchen Wochentagen schauen wir besonders viel bzw. besonders wenig *Netflix*?"
   ]
  },
  {
   "cell_type": "code",
   "execution_count": null,
   "metadata": {},
   "outputs": [],
   "source": [
    "my_netflix_weekday <- my_netflix_per_day %>%\n",
    "  group_by(wday_name) %>% \n",
    "  summarize(episodes = sum(n))\n",
    "\n",
    "my_netflix_weekday %>% \n",
    "  ggplot(aes(x = wday_name, y = episodes)) +\n",
    "  geom_col() +\n",
    "  scale_y_continuous(expand = expansion(mult = c(0, 0.15))) +\n",
    "  ggtitle(\"Anzahl geschauter Serienfolgen auf Netflix\",\n",
    "          \"Nutzung nach Wochentagen\") +\n",
    "  labs(y = \"Anzahl der Folgen\",\n",
    "       x = \"Wochentag\")"
   ]
  },
  {
   "cell_type": "markdown",
   "metadata": {},
   "source": [
    "## Saisonale Unterschiede"
   ]
  },
  {
   "cell_type": "markdown",
   "metadata": {},
   "source": [
    "Als letzten Punkt in diesem Notebook wollen wir uns noch anschauen, ob wir saisonale Trends in Form von Unterschieden zwischen den Monaten in unserer *Netflix*-Nutzung identifizieren können."
   ]
  },
  {
   "cell_type": "code",
   "execution_count": null,
   "metadata": {},
   "outputs": [],
   "source": [
    "my_netflix_month <- my_netflix_per_day %>%\n",
    "  count(month)\n",
    "\n",
    "my_netflix_month %>% \n",
    "  ggplot(aes(x = month, y = n)) +\n",
    "  geom_col(fill = \"#808000\") +\n",
    "  coord_polar()  +\n",
    "  theme_minimal() +\n",
    "  theme(axis.title.x = element_blank(),\n",
    "        axis.title.y = element_blank(),\n",
    "        axis.text.y = element_blank(),\n",
    "        axis.text.x = element_text(face = \"bold\"),\n",
    "        plot.title = element_text(size = 18, face = \"bold\")) +\n",
    "  ggtitle(\"Intensität der Netflix-Nutzung\",\n",
    "                \"Nutzungsunterschiede nach Monaten\")"
   ]
  }
 ],
 "metadata": {
  "kernelspec": {
   "display_name": "R",
   "language": "R",
   "name": "ir"
  },
  "language_info": {
   "codemirror_mode": "r",
   "file_extension": ".r",
   "mimetype": "text/x-r-source",
   "name": "R",
   "pygments_lexer": "r",
   "version": "3.6.1"
  }
 },
 "nbformat": 4,
 "nbformat_minor": 4
}
